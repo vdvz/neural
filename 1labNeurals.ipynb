{
 "cells": [
  {
   "cell_type": "code",
   "execution_count": 1,
   "metadata": {},
   "outputs": [],
   "source": [
    "import matplotlib.pyplot as plt\n",
    "import pandas as pd\n",
    "import numpy as np\n",
    "from typing import List\n",
    "import seaborn as sns"
   ]
  },
  {
   "cell_type": "code",
   "execution_count": 2,
   "metadata": {},
   "outputs": [],
   "source": [
    "#Удаляем значения лежащие за пределами квантилей\n",
    "def delete_outliers(data_frame: pd.DataFrame):\n",
    "    for column_name in ['Рлин', 'Рлин_1', 'Туст', 'Тна шлейфе', 'Тзаб', 'Дебит ст. конд.', 'Дебит кон нестабильный',\n",
    "              'Рпл. Тек (Карноухов)', 'Удельная плотность газа ']:\n",
    "        column = data_frame[column_name]\n",
    "        quant = np.nanquantile(column, q=[0.25, 0.75])\n",
    "        low = quant[0] - 1.5 * (quant[1] - quant[0])\n",
    "        high = quant[1] + 1.5 * (quant[1] - quant[0])\n",
    "        for index, row in data_frame.iterrows():\n",
    "            aux = data_frame[column_name].loc[index]\n",
    "            if not (low < aux < high) and np.isnan(data_frame[\"G_total\"].loc[index]):\n",
    "                data_frame.drop(index, inplace=True)\n",
    "    return data_frame"
   ]
  },
  {
   "cell_type": "code",
   "execution_count": 3,
   "metadata": {},
   "outputs": [],
   "source": [
    "#Дропаем колонки в которых nan'ов больше чем 50 процентов\n",
    "def delete_big_nan(data_frame: pd.DataFrame):\n",
    "    nan_count_series = data_frame.isnull().sum(axis=0)\n",
    "    column_size = data_frame.shape[0]\n",
    "    for i, v in nan_count_series.iteritems():\n",
    "        #print(\" \", i, end=\" \")\n",
    "        #print(v / column_size * 100)\n",
    "        if v / column_size * 100 >= 50 and i != \"G_total\":\n",
    "            data_frame.drop(i, axis=1, inplace=True)\n",
    "    \n",
    "    return data_frame"
   ]
  },
  {
   "cell_type": "code",
   "execution_count": 4,
   "metadata": {},
   "outputs": [],
   "source": [
    "#Дропаем колонки значения которых не уникальны\n",
    "def delete_small_uniques(data_frame: pd.DataFrame):\n",
    "    del_list = []\n",
    "    for i in data_frame.columns:\n",
    "        if data_frame[i].nunique(dropna=True) == 1:\n",
    "            data_frame.drop(i, axis=1, inplace=True)\n",
    "            \n",
    "    return data_frame"
   ]
  },
  {
   "cell_type": "code",
   "execution_count": 5,
   "metadata": {},
   "outputs": [],
   "source": [
    "#Переименовываем колонки с одинаковымии названиями\n",
    "def rename_columns(columns):\n",
    "    repeated = {}\n",
    "    new_column_names = []\n",
    "    for column in columns:\n",
    "        if column in new_column_names:\n",
    "            if column not in repeated:\n",
    "                repeated[column] = 1\n",
    "            else:\n",
    "                repeated[column] += 1\n",
    "            column = column + \"_\" + str(repeated[column])\n",
    "        new_column_names.append(column)\n",
    "    return new_column_names\n",
    "\n",
    "def clean_data_frame(data_frame: pd.DataFrame):\n",
    "    data_frame.iloc[0, 0] = data_frame.iloc[1, 0]\n",
    "    data_frame.iloc[0, 1] = \"Дата\"\n",
    "    data_frame.columns = data_frame.iloc[0]\n",
    "    #Некоторые колонки названы неправильно\n",
    "    data_frame.rename(columns={'Pлин': 'Рлин'}, inplace=True)\n",
    "    data_frame.rename(columns={'Дебит гааз': 'Дебит газа'}, inplace=True)\n",
    "    #Помечаем повторяющиеся колонки разными названиями\n",
    "    data_frame.columns = rename_columns(list(data_frame.columns))\n",
    "    #Дропаем первую строчку и строчку с единицами измерения\n",
    "    data_frame.drop([0], inplace=False)\n",
    "    data_frame.drop([1], inplace=True)\n",
    "    #Объдиняем КГФы\n",
    "    data_frame[\"КГФ_1\"] = data_frame[\"КГФ_1\"].multiply(1000)\n",
    "    data_frame[\"КГФ\"] = data_frame[\"КГФ\"].combine_first(data_frame[\"КГФ_1\"])\n",
    "    #Дропаем ненужные колонки\n",
    "    data_frame.drop(columns=\"КГФ_1\", inplace=True)\n",
    "    data_frame.drop(columns=\"№\", inplace=True)\n",
    "    data_frame.drop(columns=\"Дата\", inplace=True)\n",
    "    #Заменяем значения на явный nan\n",
    "    data_frame.dropna(subset=[\"КГФ\", \"G_total\"], how='all', inplace=True)\n",
    "    data_frame.replace(to_replace=[\"не спускался\", '-'], value=np.NAN, inplace=True)\n",
    "    \n",
    "    return data_frame"
   ]
  },
  {
   "cell_type": "code",
   "execution_count": 41,
   "metadata": {},
   "outputs": [],
   "source": [
    "def kgf_to_intervals(data_frame: pd.DataFrame):\n",
    "    kgf_column = data_frame[\"КГФ\"]\n",
    "    kgf_column = kgf_column[1:]\n",
    "    sorted_kgf = sorted(kgf_column[1:].unique())\n",
    "    bins = int(1 + np.log2(len(sorted_kgf)))\n",
    "    min_col = sorted_kgf[0]\n",
    "    max_col = sorted_kgf[len(sorted_kgf) - 1]\n",
    "    width = (max_col - min_col) / bins\n",
    "    return [(min_col + width * i, min_col + width * (i + 1)) for i in range(bins)]\n",
    "\n",
    "\n",
    "def find_interval(value, kgf_intervals):\n",
    "    for i in kgf_intervals:\n",
    "        if i[0] <= float(value) < i[1]:\n",
    "            return i\n",
    "    return np.nan\n",
    "\n",
    "\n",
    "def get_class_set(data_frame, kgf_intervals):\n",
    "    classes = []\n",
    "    for index, row in data_frame[1:].iterrows():\n",
    "        #Пара (интервал соответствующий значнию кгф, значение G_total)\n",
    "        class_ = (find_interval(data_frame[\"КГФ\"].loc[index], kgf_intervals), data_frame[\"G_total\"].loc[index])\n",
    "        is_new_class = True\n",
    "        #check that classes dont consist class yet and not be nan\n",
    "        for ex_class in classes:\n",
    "            if ex_class[0] == class_[0] or np.all(np.isnan(ex_class[0])) and np.all(np.isnan(class_[0])):\n",
    "                if ex_class[1] == class_[1] or np.isnan(ex_class[1]) and np.isnan(class_[1]):\n",
    "                    is_new_class = False\n",
    "                    break\n",
    "        if is_new_class:\n",
    "            classes.append(class_)\n",
    "\n",
    "    return classes"
   ]
  },
  {
   "cell_type": "code",
   "execution_count": 43,
   "metadata": {},
   "outputs": [],
   "source": [
    "#Количество примеров относящихся к конкретному классу\n",
    "def count_feature_frequency(data_frame, classes, kgf_intervals):\n",
    "    feature_frequency = {_class : 0 for _class in classes}\n",
    "    for index, row in data_frame[1:].iterrows():\n",
    "        current_kgf_value = data_frame[\"КГФ\"].loc[index]\n",
    "        current_G_total_value = data_frame[\"G_total\"].loc[index]\n",
    "        value = (find_interval(current_kgf_value, kgf_intervals), current_G_total_value)\n",
    "        for i in feature_frequency.keys():\n",
    "            if i[0] != i[0] and value[0] != value[0] or value[0] == i[0]:\n",
    "                if ~np.isnan(i[1]) and ~np.isnan(value[1]) or value[1] == i[1]:\n",
    "                    feature_frequency[i] += 1\n",
    "                    break\n",
    "    return feature_frequency\n",
    "\n",
    "\n",
    "def get_avg_info(data_frame: pd.DataFrame, classes, kgf_intervals):\n",
    "    freq_dict = count_feature_frequency(data_frame, classes, kgf_intervals)\n",
    "    freq_value_list = list(freq_dict.values())\n",
    "    info = 0.0\n",
    "    T = data_frame.shape[0]\n",
    "    for freq_Ti in freq_value_list:\n",
    "        if freq_Ti > 0:\n",
    "            info += freq_Ti / T * np.log2(freq_Ti / T)\n",
    "    return -info\n",
    "\n",
    "#Info_X and Info_split\n",
    "def get_feature_and_split_info(data_frame, feature_name, classes, kgf_intervals):\n",
    "    unique_values = data_frame[feature_name].unique()\n",
    "    power = data_frame.shape[0]\n",
    "    feature_info = 0.0\n",
    "    split_info = 0.0\n",
    "    for value in unique_values:\n",
    "        new_data_frame = data_frame[np.isnan(data_frame[feature_name])] if np.isnan(value) else data_frame[\n",
    "            data_frame[feature_name] == value]\n",
    "        avg_info = get_avg_info(new_data_frame, classes, kgf_intervals)\n",
    "        power_value = new_data_frame.shape[0]\n",
    "        power_relation = power_value / power\n",
    "        feature_info += power_relation * avg_info\n",
    "        split_info += power_relation * np.log2(power_relation)\n",
    "    return feature_info, -split_info\n",
    "\n",
    "\n",
    "def gain_ratio(avg_info, feature_info, split_info):\n",
    "    return (avg_info - feature_info) / split_info\n",
    "\n",
    "\n",
    "def get_gain_ratio_of_features(data_frame: pd.DataFrame, classes, kgf_intervals):\n",
    "    features = data_frame.columns[0:-2]\n",
    "    frame_avg_info = get_avg_info(data_frame, classes, kgf_intervals)\n",
    "    gain_ratio_dict = {}\n",
    "    for feature in features:\n",
    "        feature_info, split_info = get_feature_and_split_info(data_frame, feature, classes, kgf_intervals)\n",
    "        gain_ratio_dict[feature] = gain_ratio(frame_avg_info, feature_info, split_info)\n",
    "    return gain_ratio_dict"
   ]
  },
  {
   "cell_type": "code",
   "execution_count": 39,
   "metadata": {},
   "outputs": [],
   "source": [
    "COR_EDGE = 0.7\n",
    "DELTA = 0.3\n",
    "\n",
    "def get_high_correlated(so):\n",
    "    high_correlated_features = []\n",
    "    for i in so.items():\n",
    "        if abs(i[1]) >= COR_EDGE and i[0] not in (\"КГФ\", \"G_total\"):\n",
    "            high_correlated_features.append(i[0])\n",
    "    return high_correlated_features\n",
    "\n",
    "\n",
    "def check_cor_utility(highly_correlated, corr_mat):\n",
    "    #sns.heatmap(corr_mat, xticklabels=range(len(headers)), yticklabels=1, linewidths=.5)\n",
    "    attributes = corr_mat.columns.values\n",
    "\n",
    "    correlated_features = []\n",
    "\n",
    "    for (h1, h2) in highly_correlated:\n",
    "        need_both = False\n",
    "        for other in attributes:\n",
    "            \n",
    "            #check if not nan\n",
    "            if other == h1 or other == h2:\n",
    "                continue\n",
    "\n",
    "            corr_h1_other = corr_mat[other][h1] if np.isnan(corr_mat[h1][other]) else corr_mat[h1][other]\n",
    "            corr_h2_other = corr_mat[h2][other] if np.isnan(corr_mat[other][h2]) else corr_mat[other][h2]\n",
    "\n",
    "            if np.isnan(corr_h2_other) or np.isnan(corr_h1_other):\n",
    "                continue\n",
    "\n",
    "            if abs(corr_h2_other - corr_h1_other) >= DELTA:\n",
    "                need_both = True\n",
    "                break\n",
    "\n",
    "        if not need_both:\n",
    "            correlated_features.append((h1, h2))\n",
    "    \n",
    "    return correlated_features\n",
    "\n",
    "\n",
    "def get_correlated_features(data_frame: pd.DataFrame):\n",
    "    cor = data_frame.corr()\n",
    "    cor.values[np.tril_indices(len(cor))] = np.nan\n",
    "    so = cor.unstack().sort_values(kind=\"quicksort\")\n",
    "    so = so[~np.isnan(so)]\n",
    "    saved_items = get_high_correlated(so)\n",
    "\n",
    "    sns.heatmap(cor, xticklabels=data_frame.shape[1], yticklabels=1, linewidths=.5)\n",
    "    return check_cor_utility(saved_items, cor)\n"
   ]
  },
  {
   "cell_type": "code",
   "execution_count": 37,
   "metadata": {},
   "outputs": [
    {
     "name": "stdout",
     "output_type": "stream",
     "text": [
      "  Глубина манометра 2.1739130434782608\n",
      "  Dшт 0.0\n",
      "  Руст 0.0\n",
      "  Рзаб 2.1739130434782608\n",
      "  Рлин 0.0\n",
      "  Руст_1 0.0\n",
      "  Рзаб_1 2.1739130434782608\n",
      "  Рлин_1 0.0\n",
      "  Туст 0.0\n",
      "  Тна шлейфе 10.869565217391305\n",
      "  Тзаб 2.1739130434782608\n",
      "  Tлин 0.0\n",
      "  Дебит газа 0.0\n",
      "  Дебит ст. конд. 0.0\n",
      "  Дебит воды 0.0\n",
      "  Дебит смеси 0.0\n",
      "  Дебит газа_1 0.0\n",
      "  Дебит кон нестабильный 0.0\n",
      "  Дебит воды_1 0.0\n",
      "  Нэф 0.0\n",
      "  Рпл. Тек (послед точка на КВД) 2.1739130434782608\n",
      "  Рпл. Тек (Расчет по КВД) 2.1739130434782608\n",
      "  Рпл. Тек (Карноухов) 15.217391304347828\n",
      "  Pсб 0.0\n",
      "  Pсб_1 0.0\n",
      "  Ro_g 50.0\n",
      "  Ro_c 0.0\n",
      "  Ro_w 50.0\n",
      "  Удельная плотность газа  0.0\n",
      "  G_total 50.0\n",
      "  КГФ 0.0\n"
     ]
    }
   ],
   "source": [
    "#data_frame = pd.read_excel(\"data_set/ID_data_mass_18122012.xlsx\", sheet_name=1, convert_float=False)\n",
    "#data_frame = clean_data_frame(data_frame)\n",
    "\n",
    "data_frame = pd.read_csv('data_set/clean.csv')\n",
    "\n",
    "data_frame = delete_outliers(data_frame)\n",
    "data_frame = delete_big_nan(data_frame)\n",
    "data_frame = delete_small_uniques(data_frame)"
   ]
  },
  {
   "cell_type": "code",
   "execution_count": 44,
   "metadata": {},
   "outputs": [
    {
     "name": "stdout",
     "output_type": "stream",
     "text": [
      "[(132.0, 174.235991564467), (174.235991564467, 216.47198312893403), (216.47198312893403, 258.707974693401), (258.707974693401, 300.94396625786806), (300.94396625786806, 343.17995782233504), (343.17995782233504, 385.415949386802)]\n",
      "class list [((258.707974693401, 300.94396625786806), 3.6977813307944776), ((216.47198312893403, 258.707974693401), 4.515072751311305), ((216.47198312893403, 258.707974693401), 5.217672708395432), ((174.235991564467, 216.47198312893403), 5.765092040467829), ((216.47198312893403, 258.707974693401), 3.0765420138888886), (nan, 4.232369768123735), ((258.707974693401, 300.94396625786806), 4.714502980027443), ((216.47198312893403, 258.707974693401), 5.727870401960785), ((216.47198312893403, 258.707974693401), 5.775314163481485), ((216.47198312893403, 258.707974693401), 5.764899980578139), ((174.235991564467, 216.47198312893403), 5.250915099829033), ((216.47198312893403, 258.707974693401), 4.248553009056828), ((258.707974693401, 300.94396625786806), 3.7244315786101594), ((258.707974693401, 300.94396625786806), 5.170165606354928), ((258.707974693401, 300.94396625786806), 8.400533646134148), ((258.707974693401, 300.94396625786806), 9.636916858651476), ((258.707974693401, 300.94396625786806), 10.931155145659286), ((258.707974693401, 300.94396625786806), 9.327572099379012), ((258.707974693401, 300.94396625786806), 6.41826341342675), ((216.47198312893403, 258.707974693401), 4.587644763698678), ((216.47198312893403, 258.707974693401), 5.833181955417568), ((216.47198312893403, 258.707974693401), 7.275189067726362), ((174.235991564467, 216.47198312893403), nan), ((132.0, 174.235991564467), nan), ((216.47198312893403, 258.707974693401), nan)]\n",
      "{'Глубина манометра': 0.271175427129759, 'Dшт': 0.14557403041328715, 'Руст': 0.2273649312077897, 'Рзаб': 0.2291688145682435, 'Рлин': 0.2310015503853531, 'Руст_1': 0.2325830122573529, 'Рзаб_1': 0.2273649312077897, 'Рлин_1': 0.23357457409339363, 'Туст': 0.23842808812454078, 'Тна шлейфе': 0.21824396387479095, 'Тзаб': 0.22662908222642247, 'Tлин': 0.2273649312077897, 'Дебит газа': 0.2273649312077897, 'Дебит ст. конд.': 0.2273649312077897, 'Дебит воды': 0.23741422510273028, 'Дебит смеси': 0.2273649312077897, 'Дебит газа_1': 0.2273649312077897, 'Дебит кон нестабильный': 0.2291688145682435, 'Дебит воды_1': 0.2431372944669901, 'Нэф': 0.25883890721801217, 'Рпл. Тек (послед точка на КВД)': 0.257826012686329, 'Рпл. Тек (Расчет по КВД)': 0.2766846578649753, 'Рпл. Тек (Карноухов)': 0.2614061940961046, 'Pсб': 0.2393817819402225, 'Pсб_1': 0.2393817819402225, 'Ro_c': 0.2777482661791549, 'Удельная плотность газа ': 0.27222463176719686}\n"
     ]
    },
    {
     "data": {
      "image/png": "[encoded data removed]",
      "text/plain": [
       "<Figure size 432x288 with 2 Axes>"
      ]
     },
     "metadata": {
      "needs_background": "light"
     },
     "output_type": "display_data"
    }
   ],
   "source": [
    "#разбиваем кгф на интервалы\n",
    "kgf_intervals = kgf_to_intervals(data_frame)\n",
    "print(kgf_intervals)\n",
    "\n",
    "#(Интервал соответсвующий значению кгф, g_total данного интрвала - все различные)\n",
    "class_list = (get_class_set(data_frame, kgf_intervals))\n",
    "print(\"class list\", class_list)\n",
    "\n",
    "#{feature : gain_ratio of feature}\n",
    "gain_ratio_of_features = get_gain_ratio_of_features(data_frame, class_list, kgf_intervals)\n",
    "correlated_features = get_correlated_features(data_frame)\n",
    "print(gain_ratio_of_features)"
   ]
  },
  {
   "cell_type": "code",
   "execution_count": null,
   "metadata": {},
   "outputs": [],
   "source": [
    "#Сильно корреллирующие признаки удаляем на основе Gain_ratio\n",
    "for correlated_feature in correlated_features:\n",
    "        first_cor_feature = correlated_feature[0]\n",
    "        second_cor_feature = correlated_feature[1]\n",
    "        if first_cor_feature not in gain_ratio_of_features or second_cor_feature not in gain_ratio_of_features:\n",
    "            continue\n",
    "        first_feature_gain_ratio = gain_ratio_of_features[first_cor_feature]\n",
    "        second_feature_gain_ratio = gain_ratio_of_features[second_cor_feature]\n",
    "        if first_feature_gain_ratio > second_feature_gain_ratio:\n",
    "            print(\"Remove \", second_cor_feature)\n",
    "            gain_ratio_of_features.pop(second_cor_feature)\n",
    "        else:\n",
    "            print(\"Remove \", first_cor_feature)\n",
    "            gain_ratio_of_features.pop(first_cor_feature)\n",
    "\n",
    "for feature in gain_ratio_dict:\n",
    "    print(\"Feature \", feature, \" with gain_ratio \", gain_ratio_dict[feature])"
   ]
  },
  {
   "cell_type": "code",
   "execution_count": 28,
   "metadata": {},
   "outputs": [
    {
     "data": {
      "image/png": "[encoded data removed]",
      "text/plain": [
       "<Figure size 432x288 with 1 Axes>"
      ]
     },
     "metadata": {
      "needs_background": "light"
     },
     "output_type": "display_data"
    }
   ],
   "source": [
    "gain_ratio_features = list(gain_ratio_of_features.keys())\n",
    "gain_ratio_values = list(gain_ratio_of_features.values())\n",
    "\n",
    "plt.barh(gain_ratio_features, width=gain_ratio_values, color=\"blue\")\n",
    "plt.show()"
   ]
  },
  {
   "cell_type": "code",
   "execution_count": null,
   "metadata": {},
   "outputs": [],
   "source": []
  },
  {
   "cell_type": "code",
   "execution_count": null,
   "metadata": {},
   "outputs": [],
   "source": []
  }
 ],
 "metadata": {
  "kernelspec": {
   "display_name": "Python 3",
   "language": "python",
   "name": "python3"
  },
  "language_info": {
   "codemirror_mode": {
    "name": "ipython",
    "version": 3
   },
   "file_extension": ".py",
   "mimetype": "text/x-python",
   "name": "python",
   "nbconvert_exporter": "python",
   "pygments_lexer": "ipython3",
   "version": "3.8.8"
  }
 },
 "nbformat": 4,
 "nbformat_minor": 4
}
